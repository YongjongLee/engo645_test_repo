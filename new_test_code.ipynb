{
 "cells": [
  {
   "cell_type": "code",
   "execution_count": 1,
   "id": "4abf53e5-4fee-42a8-83c7-96c29c8cf23b",
   "metadata": {},
   "outputs": [
    {
     "name": "stdout",
     "output_type": "stream",
     "text": [
      "hello ENGO Students!\n"
     ]
    }
   ],
   "source": [
    "print(\"hello ENGO Students!\")"
   ]
  },
  {
   "cell_type": "code",
   "execution_count": 1,
   "id": "263a4e03-74cd-4538-ac00-1d810455dc43",
   "metadata": {},
   "outputs": [
    {
     "name": "stdout",
     "output_type": "stream",
     "text": [
      "I am yongjong Lee\n"
     ]
    }
   ],
   "source": [
    "print(\"I am yongjong Lee\")"
   ]
  },
  {
   "cell_type": "code",
   "execution_count": 2,
   "id": "db6ef6c5-328f-4c2f-bee1-079bb8ce92bc",
   "metadata": {},
   "outputs": [
    {
     "name": "stdout",
     "output_type": "stream",
     "text": [
      "just call me YJ!!\n"
     ]
    }
   ],
   "source": [
    "print(\"just call me YJ!!\")"
   ]
  },
  {
   "cell_type": "code",
   "execution_count": null,
   "id": "5e858db4-efdd-47d3-9dc8-51238fb1a42c",
   "metadata": {},
   "outputs": [],
   "source": []
  }
 ],
 "metadata": {
  "kernelspec": {
   "display_name": "Python [conda env:base] *",
   "language": "python",
   "name": "conda-base-py"
  },
  "language_info": {
   "codemirror_mode": {
    "name": "ipython",
    "version": 3
   },
   "file_extension": ".py",
   "mimetype": "text/x-python",
   "name": "python",
   "nbconvert_exporter": "python",
   "pygments_lexer": "ipython3",
   "version": "3.12.7"
  }
 },
 "nbformat": 4,
 "nbformat_minor": 5
}
