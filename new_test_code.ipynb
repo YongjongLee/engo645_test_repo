{
 "cells": [
  {
   "cell_type": "code",
   "execution_count": 1,
   "id": "4abf53e5-4fee-42a8-83c7-96c29c8cf23b",
   "metadata": {},
   "outputs": [
    {
     "name": "stdout",
     "output_type": "stream",
     "text": [
      "hello ENGO Students!\n"
     ]
    }
   ],
   "source": [
    "print(\"hello ENGO Students!\")"
   ]
  },
  {
   "cell_type": "code",
   "execution_count": null,
   "id": "263a4e03-74cd-4538-ac00-1d810455dc43",
   "metadata": {},
   "outputs": [],
   "source": [
    "print(\"I am yongjong Lee\")"
   ]
  }
 ],
 "metadata": {
  "kernelspec": {
   "display_name": "Python [conda env:base] *",
   "language": "python",
   "name": "conda-base-py"
  },
  "language_info": {
   "codemirror_mode": {
    "name": "ipython",
    "version": 3
   },
   "file_extension": ".py",
   "mimetype": "text/x-python",
   "name": "python",
   "nbconvert_exporter": "python",
   "pygments_lexer": "ipython3",
   "version": "3.12.3"
  }
 },
 "nbformat": 4,
 "nbformat_minor": 5
}
